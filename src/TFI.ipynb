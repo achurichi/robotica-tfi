{
 "cells": [
  {
   "cell_type": "markdown",
   "metadata": {},
   "source": [
    "# Grupo 3: Trabajo Final Integrador\n",
    "\n",
    "Churichi Alan, Gonzalez Exequiel, Mare Rodrigo"
   ]
  },
  {
   "cell_type": "code",
   "execution_count": 1,
   "metadata": {},
   "outputs": [],
   "source": [
    "import roboticstoolbox as rtb\n",
    "import numpy as np\n",
    "import sim\n",
    "import sys\n",
    "import time\n",
    "from handlers import *\n",
    "from kinematics import *\n",
    "from utils import *\n",
    "from trajectories import *\n",
    "from constants import *"
   ]
  },
  {
   "cell_type": "markdown",
   "metadata": {},
   "source": [
    "### Movimiento del robot utilizando el MCI calculado"
   ]
  },
  {
   "cell_type": "code",
   "execution_count": 2,
   "metadata": {},
   "outputs": [
    {
     "output_type": "stream",
     "name": "stdout",
     "text": [
      "Conectado a  19999\n",
      "Calculando trayectorias...\n",
      "Iniciando simulación\n",
      "Conexión Finalizada\n"
     ]
    }
   ],
   "source": [
    "clientID = connect(19999)\n",
    "\n",
    "t0 = 0;\n",
    "if (clientID != -1): # Mientras haya conexión con Coppelia\n",
    "    joints_R1 = [0 for i in range(JOINTS_NUM)] # ID de las articulaciones\n",
    "    joints_R2 = [0 for i in range(JOINTS_NUM)] # ID de las articulaciones\n",
    "    home_R1 = {}\n",
    "    home_R2 = {}\n",
    "    checkpoints_move_box = [{} for i in range(CHECKPOINTS_R1_NUM)] # Checkpoints del robot 1 para mover la caja\n",
    "    checkpoints_pioneer = [{} for i in range(CHECKPOINTS_PIONEER_NUM)] # Checkpoints para el robot 1 para poder ubicar las cajas en el pioneer\n",
    "    checkpoints_boxes = [{} for i in range(CHECKPOINTS_BOXES_NUM)] # Checkpoints de las cajas en la cinta\n",
    "    checkpoints_boxes_shelf = [{} for i in range(CHECKPOINTS_PIONEER_NUM)] # Checkpoints de las cajas en pioneer cuando está en la estantería\n",
    "    checkpoints_store_box = [{} for i in range(CHECKPOINTS_R2_NUM)] # Checkpoints para mover las cajas en la estantería\n",
    "    # checkpoints_shelf = [{} for i in range(CHECKPOINTS_SHELF)] # Checkpoints estantes\n",
    "    \n",
    "    # Se obtienen los IDs\n",
    "    joint_handlers(joints_R1, 'R1', JOINTS_NUM, clientID, sim.simx_opmode_blocking)\n",
    "    joint_handlers(joints_R2, 'R2', JOINTS_NUM, clientID, sim.simx_opmode_blocking)\n",
    "    checkpoint_handlers(checkpoints_move_box, 'CheckPoint_R1', CHECKPOINTS_R1_NUM, clientID, sim.simx_opmode_blocking)\n",
    "    checkpoint_handlers(checkpoints_pioneer, 'CheckPoint_box_pioneer', CHECKPOINTS_PIONEER_NUM, clientID, sim.simx_opmode_blocking)\n",
    "    checkpoint_handlers(checkpoints_boxes, 'CheckPoint_box', CHECKPOINTS_BOXES_NUM, clientID, sim.simx_opmode_blocking)\n",
    "    checkpoint_handlers(checkpoints_boxes_shelf, 'CheckPoint_box_pioneer_shelf', CHECKPOINTS_PIONEER_NUM, clientID, sim.simx_opmode_blocking)\n",
    "    checkpoint_handlers(checkpoints_store_box, 'CheckPoint_R2', CHECKPOINTS_R2_NUM, clientID, sim.simx_opmode_blocking)\n",
    "    # checkpoint_handlers(checkpoints_shelf, 'CheckPoint_shelf', CHECKPOINTS_SHELF, clientID, sim.simx_opmode_blocking)\n",
    "    _, tip_R1 = sim.simxGetObjectHandle(clientID, (ROBOT_NAME + '_tip'), sim.simx_opmode_blocking)\n",
    "    _, tip_R2 = sim.simxGetObjectHandle(clientID, (ROBOT_NAME + '_tip_2'), sim.simx_opmode_blocking)\n",
    "    _, sensor_1 = sim.simxGetObjectHandle(clientID, 'Proximity_sensor_box_low', sim.simx_opmode_blocking)\n",
    "    _, sensor_2 = sim.simxGetObjectHandle(clientID, 'Proximity_sensor_box_high', sim.simx_opmode_blocking)\n",
    "    \n",
    "    # Se setean las posiciones y orientaciones como streaming\n",
    "    sim.simxGetObjectPosition(clientID, tip_R1, -1, sim.simx_opmode_streaming)\n",
    "    sim.simxGetObjectOrientation(clientID, tip_R1, -1, sim.simx_opmode_streaming)\n",
    "    sim.simxGetObjectPosition(clientID, tip_R2, -1, sim.simx_opmode_streaming)\n",
    "    sim.simxGetObjectOrientation(clientID, tip_R2, -1, sim.simx_opmode_streaming)\n",
    "    checkpoints_set_streaming([checkpoints_move_box, checkpoints_pioneer, checkpoints_boxes, checkpoints_boxes_shelf, checkpoints_store_box], clientID) # AGREGAR checkpoints_shelf\n",
    "    sim.simxReadProximitySensor(clientID, sensor_1, sim.simx_opmode_streaming)\n",
    "    sim.simxReadProximitySensor(clientID, sensor_2, sim.simx_opmode_streaming)\n",
    "\n",
    "    # Se inicia la simulación\n",
    "    sim.simxStartSimulation(clientID, sim.simx_opmode_oneshot)\n",
    "    # sim.simxPauseSimulation(clientID, sim.simx_opmode_oneshot)\n",
    "    \n",
    "    time.sleep(1) # Tiempo de espera para asegurarse que los valores leidos de home sean correctos\n",
    "    \n",
    "    # Posición, orientación y ángulos de Home\n",
    "    _, home_R1['position'] = sim.simxGetObjectPosition(clientID, tip_R1, -1, sim.simx_opmode_buffer)\n",
    "    _, home_R1['orientation'] = sim.simxGetObjectOrientation(clientID, tip_R1, -1, sim.simx_opmode_buffer)\n",
    "    home_R1['angles'] = inverse_kinematics(home_R1['position'], home_R1['orientation'], 'R1')\n",
    "    _, home_R2['position'] = sim.simxGetObjectPosition(clientID, tip_R2, -1, sim.simx_opmode_buffer)\n",
    "    _, home_R2['orientation'] = sim.simxGetObjectOrientation(clientID, tip_R2, -1, sim.simx_opmode_buffer)\n",
    "    home_R2['angles'] = inverse_kinematics(home_R2['position'], home_R2['orientation'], 'R2')\n",
    "    \n",
    "    # Posición, orientación y ángulos de Checkpoints\n",
    "    checkpoints_get_from_buffer([checkpoints_move_box, checkpoints_pioneer, checkpoints_boxes], 'R1', clientID)\n",
    "    checkpoints_get_from_buffer([checkpoints_boxes_shelf, checkpoints_store_box], 'R2', clientID) # AGREGAR checkpoints_shelf\n",
    "        \n",
    "    print('Calculando trayectorias...')\n",
    "    \n",
    "    traj = calc_trajectories(home_R1, home_R2, checkpoints_move_box, checkpoints_pioneer, checkpoints_boxes, checkpoints_boxes_shelf, checkpoints_store_box) # AGREGAR checkpoints_shelf\n",
    "    sim.simxSetFloatSignal(clientID, 'beltVelocity', 0.5, sim.simx_opmode_oneshot)\n",
    "    \n",
    "    print('Iniciando simulación')\n",
    "    \n",
    "    # for i in range(BOX_COUNT):\n",
    "    #     sensor_1_value = False\n",
    "    #     while (sensor_1_value == False):\n",
    "    #         _, sensor_1_value, _, _, _ = sim.simxReadProximitySensor(clientID, sensor_1, sim.simx_opmode_buffer)\n",
    "    #         _, sensor_2_value, _, _, _ = sim.simxReadProximitySensor(clientID, sensor_2, sim.simx_opmode_streaming)\n",
    "        \n",
    "    #     sim.simxSetFloatSignal(clientID, 'beltVelocity', 0, sim.simx_opmode_oneshot)\n",
    "\n",
    "    #     if sensor_2_value: # Caja grande\n",
    "    #         for traj_point in traj['get_large_box']:\n",
    "    #             time.sleep(0.05)\n",
    "    #             setJointsPosition(traj_point, joints_R1, JOINTS_NUM, clientID, sim.simx_opmode_oneshot)\n",
    "            \n",
    "    #         sim.simxSetIntegerSignal(clientID, 'VacuumGripper_active', 1, sim.simx_opmode_oneshot) # Agarrar\n",
    "\n",
    "    #         for traj_point in traj['move_large_box']:\n",
    "    #             time.sleep(0.05)\n",
    "    #             setJointsPosition(traj_point, joints_R1, JOINTS_NUM, clientID, sim.simx_opmode_oneshot)\n",
    "\n",
    "    #         for traj_point in traj['store_large_box_pioneer'][i]:\n",
    "    #             time.sleep(0.05)\n",
    "    #             setJointsPosition(traj_point, joints_R1, JOINTS_NUM, clientID, sim.simx_opmode_oneshot)\n",
    "\n",
    "    #         sim.simxSetIntegerSignal(clientID, 'VacuumGripper_active', 0, sim.simx_opmode_oneshot) # Soltar\n",
    "\n",
    "    #         for traj_point in traj['back_home_large_box'][i]:\n",
    "    #             time.sleep(0.05)\n",
    "    #             setJointsPosition(traj_point, joints_R1, JOINTS_NUM, clientID, sim.simx_opmode_oneshot)\n",
    "    #     else: # Caja chica\n",
    "    #         for traj_point in traj['get_small_box']:\n",
    "    #             time.sleep(0.05)\n",
    "    #             setJointsPosition(traj_point, joints_R1, JOINTS_NUM, clientID, sim.simx_opmode_oneshot)\n",
    "            \n",
    "    #         sim.simxSetIntegerSignal(clientID, 'VacuumGripper_active', 1, sim.simx_opmode_oneshot) # Agarrar\n",
    "\n",
    "    #         for traj_point in traj['move_small_box']:\n",
    "    #             time.sleep(0.05)\n",
    "    #             setJointsPosition(traj_point, joints_R1, JOINTS_NUM, clientID, sim.simx_opmode_oneshot)\n",
    "                \n",
    "    #         for traj_point in traj['store_small_box_pioneer'][i]:\n",
    "    #             time.sleep(0.05)\n",
    "    #             setJointsPosition(traj_point, joints_R1, JOINTS_NUM, clientID, sim.simx_opmode_oneshot)\n",
    "\n",
    "    #         sim.simxSetIntegerSignal(clientID, 'VacuumGripper_active', 0, sim.simx_opmode_oneshot) # Soltar\n",
    "\n",
    "    #         for traj_point in traj['back_home_small_box'][i]:\n",
    "    #             time.sleep(0.05)\n",
    "    #             setJointsPosition(traj_point, joints_R1, JOINTS_NUM, clientID, sim.simx_opmode_oneshot)\n",
    "\n",
    "    #     sim.simxSetFloatSignal(clientID, 'beltVelocity', 0.5, sim.simx_opmode_oneshot)   \n",
    "\n",
    "    for traj_point in traj['prueba']:\n",
    "                time.sleep(0.05)\n",
    "                setJointsPosition(traj_point, joints_R2, JOINTS_NUM, clientID, sim.simx_opmode_oneshot)\n",
    "\n",
    "    sim.simxFinish(clientID);\n",
    "    print('Conexión Finalizada')\n",
    "\n"
   ]
  },
  {
   "cell_type": "code",
   "execution_count": null,
   "metadata": {},
   "outputs": [],
   "source": []
  }
 ],
 "metadata": {
  "kernelspec": {
   "name": "python383jvsc74a57bd07b4c34fa5edc2b5c200e84280da452af41185f443fff3e767a73b82cf30c2550",
   "display_name": "Python 3.8.3 64-bit ('base': conda)"
  },
  "language_info": {
   "codemirror_mode": {
    "name": "ipython",
    "version": 3
   },
   "file_extension": ".py",
   "mimetype": "text/x-python",
   "name": "python",
   "nbconvert_exporter": "python",
   "pygments_lexer": "ipython3",
   "version": "3.8.3"
  },
  "varInspector": {
   "cols": {
    "lenName": 16,
    "lenType": 16,
    "lenVar": 40
   },
   "kernels_config": {
    "python": {
     "delete_cmd_postfix": "",
     "delete_cmd_prefix": "del ",
     "library": "var_list.py",
     "varRefreshCmd": "print(var_dic_list())"
    },
    "r": {
     "delete_cmd_postfix": ") ",
     "delete_cmd_prefix": "rm(",
     "library": "var_list.r",
     "varRefreshCmd": "cat(var_dic_list()) "
    }
   },
   "types_to_exclude": [
    "module",
    "function",
    "builtin_function_or_method",
    "instance",
    "_Feature"
   ],
   "window_display": false
  }
 },
 "nbformat": 4,
 "nbformat_minor": 4
}