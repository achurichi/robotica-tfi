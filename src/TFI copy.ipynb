{
 "cells": [
  {
   "cell_type": "markdown",
   "metadata": {},
   "source": [
    "# Grupo 3: Trabajo Final Integrador\n",
    "\n",
    "Churichi Alan, Gonzalez Exequiel, Mare Rodrigo"
   ]
  },
  {
   "cell_type": "code",
   "execution_count": 1,
   "metadata": {},
   "outputs": [],
   "source": [
    "import roboticstoolbox as rtb\n",
    "import numpy as np\n",
    "import sim\n",
    "import sys\n",
    "import time\n",
    "from handlers import *\n",
    "from kinematics import *\n",
    "from utils import *\n",
    "from trajectories import *\n",
    "from constants import *"
   ]
  },
  {
   "cell_type": "markdown",
   "metadata": {},
   "source": [
    "### Movimiento del robot utilizando el MCI calculado"
   ]
  },
  {
   "cell_type": "code",
   "execution_count": 2,
   "metadata": {},
   "outputs": [
    {
     "output_type": "stream",
     "name": "stdout",
     "text": [
      "Conectado a  19999\n",
      "Calculando trayectorias...\n",
      "Moviendo...\n",
      "Conexión Finalizada\n"
     ]
    }
   ],
   "source": [
    "clientID = connect(19999)\n",
    "\n",
    "t0 = 0;\n",
    "if (clientID != -1): # Mientras haya conexión con Coppelia\n",
    "    joints = [0 for i in range(JOINTS_NUM)] # ID de las articulaciones\n",
    "    home = {}\n",
    "    checkpoints = [{} for i in range(CHECKPOINTS_NUM)]\n",
    "    \n",
    "    # Se obtienen los IDs\n",
    "    joint_handlers(joints, JOINTS_NUM, clientID, sim.simx_opmode_blocking)\n",
    "    checkpoint_handlers(checkpoints, 'CheckPoint', CHECKPOINTS_NUM, clientID, sim.simx_opmode_blocking)\n",
    "    _, tip = sim.simxGetObjectHandle(clientID, (ROBOT_NAME + '_tip'), sim.simx_opmode_blocking)\n",
    "\n",
    "    \n",
    "    # Se setean las posiciones y orientaciones como streaming\n",
    "    sim.simxGetObjectPosition(clientID, tip, -1, sim.simx_opmode_streaming)\n",
    "    sim.simxGetObjectOrientation(clientID, tip, -1, sim.simx_opmode_streaming)\n",
    "    for i in range(CHECKPOINTS_NUM):\n",
    "        sim.simxGetObjectPosition(clientID, checkpoints[i]['handle'], -1, sim.simx_opmode_streaming)\n",
    "        sim.simxGetObjectOrientation(clientID, checkpoints[i]['handle'], -1, sim.simx_opmode_streaming)\n",
    "\n",
    "    # Se inicia la simulación\n",
    "    sim.simxStartSimulation(clientID, sim.simx_opmode_oneshot)\n",
    "    \n",
    "    time.sleep(1) # Tiempo de espera para asegurarse que los valores leidos de home sean correctos\n",
    "    \n",
    "    # Posición, orientación y ángulos de Home\n",
    "    error, home['position'] = sim.simxGetObjectPosition(clientID, tip, -1, sim.simx_opmode_buffer)\n",
    "    error, home['orientation'] = sim.simxGetObjectOrientation(clientID, tip, -1, sim.simx_opmode_buffer)\n",
    "    theta = inverse_kinematics(home['position'], home['orientation'])\n",
    "    if(not theta):  \n",
    "        raise Exception(\"Posición de Home no permitida\")\n",
    "    else:\n",
    "        home['angles'] = theta\n",
    "    \n",
    "    # Posición, orientación y ángulos de Checkpoints\n",
    "    for i in range(CHECKPOINTS_NUM):\n",
    "        error, checkpoints[i]['position'] = sim.simxGetObjectPosition(clientID, \n",
    "                                                                      checkpoints[i]['handle'], \n",
    "                                                                      -1, \n",
    "                                                                      sim.simx_opmode_buffer)\n",
    "        error, checkpoints[i]['orientation']  = sim.simxGetObjectOrientation(clientID, \n",
    "                                                                             checkpoints[i]['handle'], \n",
    "                                                                             -1, \n",
    "                                                                             sim.simx_opmode_buffer)\n",
    "        theta = inverse_kinematics(checkpoints[i]['position'], checkpoints[i]['orientation'])\n",
    "        if(not theta):  \n",
    "            raise Exception(f\"Posición de Checkpoint {i + 1} no permitida\")\n",
    "        else:\n",
    "            checkpoints[i]['angles'] = theta\n",
    "        \n",
    "    points_fast_translation = 50  # Movimiento rápido\n",
    "    points_mid_translation = 150  # Movimiento moderado\n",
    "    points_slow_translation = 250 # Movimiento lento\n",
    "    \n",
    "    print('Calculando trayectorias...')\n",
    "    \n",
    "    traj_1 = get_angles_for_trajectory([home, checkpoints[0], checkpoints[1]],\n",
    "                                       ['jtraj', 'ctraj'], \n",
    "                                       points_fast_translation)\n",
    "    traj_2 = get_angles_for_trajectory([checkpoints[1], checkpoints[0], checkpoints[2], checkpoints[3], checkpoints[4]],\n",
    "                                       ['ctraj', 'ctraj', 'ctraj', 'ctraj'], \n",
    "                                       points_slow_translation)\n",
    "    traj_3 = get_angles_for_trajectory([checkpoints[4], checkpoints[3], checkpoints[2], checkpoints[5], checkpoints[6]],\n",
    "                                       ['ctraj', 'jtraj', 'jtraj', 'ctraj'], \n",
    "                                       points_mid_translation)\n",
    "    traj_4 = get_angles_for_trajectory([checkpoints[6], checkpoints[5], checkpoints[2], checkpoints[0], checkpoints[1]],\n",
    "                                       ['ctraj', 'ctraj', 'ctraj', 'ctraj'], \n",
    "                                       points_slow_translation)\n",
    "    traj_5 = get_angles_for_trajectory([checkpoints[1], checkpoints[0], home],\n",
    "                                       ['ctraj', 'jtraj'], \n",
    "                                       points_fast_translation)\n",
    "    \n",
    "    print('Moviendo...')\n",
    "    \n",
    "    if (sim.simxGetConnectionId(clientID) != -1): # Se ejecuta la sencuencia de movimientos\n",
    "        for traj_point in traj_1:\n",
    "            time.sleep(0.05)\n",
    "            setJointsPosition(traj_point, joints, JOINTS_NUM, clientID, sim.simx_opmode_oneshot)\n",
    "            \n",
    "        sim.simxSetIntegerSignal(clientID, 'VacuumGripper_active', 1, sim.simx_opmode_oneshot) # Agarrar\n",
    "        \n",
    "        for traj_point in traj_2:\n",
    "            time.sleep(0.1)\n",
    "            setJointsPosition(traj_point, joints, JOINTS_NUM, clientID, sim.simx_opmode_oneshot)\n",
    "            \n",
    "        sim.simxSetIntegerSignal(clientID, 'VacuumGripper_active', 0, sim.simx_opmode_oneshot) # Soltar\n",
    "            \n",
    "        for traj_point in traj_3:\n",
    "            time.sleep(0.05)\n",
    "            setJointsPosition(traj_point, joints, JOINTS_NUM, clientID, sim.simx_opmode_oneshot)\n",
    "            \n",
    "        sim.simxSetIntegerSignal(clientID, 'VacuumGripper_active', 1, sim.simx_opmode_oneshot) # Agarrar\n",
    "        \n",
    "        for traj_point in traj_4:\n",
    "            time.sleep(0.1)\n",
    "            setJointsPosition(traj_point, joints, JOINTS_NUM, clientID, sim.simx_opmode_oneshot)\n",
    "            \n",
    "        sim.simxSetIntegerSignal(clientID, 'VacuumGripper_active', 0, sim.simx_opmode_oneshot) # Soltar\n",
    "            \n",
    "        for traj_point in traj_5:\n",
    "            time.sleep(0.05)\n",
    "            setJointsPosition(traj_point, joints, JOINTS_NUM, clientID, sim.simx_opmode_oneshot)\n",
    "\n",
    "    sim.simxFinish(clientID);\n",
    "    print('Conexión Finalizada')\n",
    "\n"
   ]
  },
  {
   "cell_type": "code",
   "execution_count": null,
   "metadata": {},
   "outputs": [],
   "source": []
  }
 ],
 "metadata": {
  "kernelspec": {
   "name": "python383jvsc74a57bd07b4c34fa5edc2b5c200e84280da452af41185f443fff3e767a73b82cf30c2550",
   "display_name": "Python 3.8.3 64-bit ('base': conda)"
  },
  "language_info": {
   "codemirror_mode": {
    "name": "ipython",
    "version": 3
   },
   "file_extension": ".py",
   "mimetype": "text/x-python",
   "name": "python",
   "nbconvert_exporter": "python",
   "pygments_lexer": "ipython3",
   "version": "3.8.3"
  },
  "varInspector": {
   "cols": {
    "lenName": 16,
    "lenType": 16,
    "lenVar": 40
   },
   "kernels_config": {
    "python": {
     "delete_cmd_postfix": "",
     "delete_cmd_prefix": "del ",
     "library": "var_list.py",
     "varRefreshCmd": "print(var_dic_list())"
    },
    "r": {
     "delete_cmd_postfix": ") ",
     "delete_cmd_prefix": "rm(",
     "library": "var_list.r",
     "varRefreshCmd": "cat(var_dic_list()) "
    }
   },
   "types_to_exclude": [
    "module",
    "function",
    "builtin_function_or_method",
    "instance",
    "_Feature"
   ],
   "window_display": false
  }
 },
 "nbformat": 4,
 "nbformat_minor": 4
}