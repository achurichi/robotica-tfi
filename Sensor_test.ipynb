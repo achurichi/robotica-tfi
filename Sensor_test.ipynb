{
 "cells": [
  {
   "cell_type": "code",
   "execution_count": 12,
   "metadata": {},
   "outputs": [],
   "source": [
    "import roboticstoolbox as rtb\n",
    "import numpy as np\n",
    "import sim  # Elementos de Coppleia\n",
    "import sys\n",
    "import time\n",
    "from IPython.display import clear_output"
   ]
  },
  {
   "cell_type": "code",
   "execution_count": 13,
   "metadata": {},
   "outputs": [],
   "source": [
    "def connect(port):\n",
    "    sim.simxFinish(-1)\n",
    "    clientID = sim.simxStart(\"127.0.0.1\", port, True, True, 5000, 5)\n",
    "    if clientID != -1:\n",
    "        print(\"Conectado a \", port)\n",
    "    else:\n",
    "        print(\"No se pudo conectar al servidor\")\n",
    "    return clientID\n",
    "\n",
    "robot_name = 'IRB120'"
   ]
  },
  {
   "cell_type": "code",
   "execution_count": 41,
   "metadata": {
    "tags": []
   },
   "outputs": [
    {
     "output_type": "stream",
     "name": "stdout",
     "text": [
      "Sensor low:  True\nSensor high:  False\n"
     ]
    }
   ],
   "source": [
    "clientID = connect(19999)\n",
    "\n",
    "t0 = 0;\n",
    "if (clientID != -1): # Mientras haya conexión con Coppelia\n",
    "    _, sensor_1 = sim.simxGetObjectHandle(clientID, \n",
    "                                           'Proximity_sensor_box_low',                                                                                      sim.simx_opmode_blocking)\n",
    "    _, sensor_2 = sim.simxGetObjectHandle(clientID, \n",
    "                                          'Proximity_sensor_box_high',                                                                                     sim.simx_opmode_blocking)\n",
    "    _, cinta = sim.simxGetObjectHandle(clientID, \n",
    "                                       'conveyorBeltVelocity',                                                                                          sim.simx_opmode_blocking)\n",
    "    \n",
    "    sim.simxReadProximitySensor(clientID, sensor_1, sim.simx_opmode_streaming)\n",
    "    sim.simxReadProximitySensor(clientID, sensor_2, sim.simx_opmode_streaming)\n",
    "\n",
    "    sim.simxStartSimulation(clientID, sim.simx_opmode_oneshot)\n",
    "    \n",
    "    # time.sleep(1)\n",
    "    \n",
    "    while (sim.simxGetConnectionId(clientID) != -1):\n",
    "        clear_output(wait=True)\n",
    "        _, sensor_1_value, _, _, _ = sim.simxReadProximitySensor(clientID, \n",
    "                                                                 sensor_1,                                                                                                        sim.simx_opmode_buffer)\n",
    "        _, sensor_2_value, _, _, _ = sim.simxReadProximitySensor(clientID, \n",
    "                                                                 sensor_2,                                                                                                        sim.simx_opmode_streaming)\n",
    "        if sensor_1_value:\n",
    "            sim.simxSetFloatSignal(clientID, 'beltVelocity', 0, sim.simx_opmode_oneshot)\n",
    "            time.sleep(1)\n",
    "            sim.simxSetFloatSignal(clientID, 'beltVelocity', 0.5, sim.simx_opmode_oneshot)                                                      \n",
    "\n",
    "        print('Sensor low: ', sensor_1_value)\n",
    "        print('Sensor high: ', sensor_2_value)\n",
    "        time.sleep(0.1)\n",
    "\n",
    "\n"
   ]
  },
  {
   "cell_type": "code",
   "execution_count": null,
   "metadata": {},
   "outputs": [],
   "source": []
  }
 ],
 "metadata": {
  "kernelspec": {
   "name": "python383jvsc74a57bd07b4c34fa5edc2b5c200e84280da452af41185f443fff3e767a73b82cf30c2550",
   "display_name": "Python 3.8.3 64-bit ('base': conda)"
  },
  "language_info": {
   "codemirror_mode": {
    "name": "ipython",
    "version": 3
   },
   "file_extension": ".py",
   "mimetype": "text/x-python",
   "name": "python",
   "nbconvert_exporter": "python",
   "pygments_lexer": "ipython3",
   "version": "3.8.3"
  },
  "varInspector": {
   "cols": {
    "lenName": 16,
    "lenType": 16,
    "lenVar": 40
   },
   "kernels_config": {
    "python": {
     "delete_cmd_postfix": "",
     "delete_cmd_prefix": "del ",
     "library": "var_list.py",
     "varRefreshCmd": "print(var_dic_list())"
    },
    "r": {
     "delete_cmd_postfix": ") ",
     "delete_cmd_prefix": "rm(",
     "library": "var_list.r",
     "varRefreshCmd": "cat(var_dic_list()) "
    }
   },
   "types_to_exclude": [
    "module",
    "function",
    "builtin_function_or_method",
    "instance",
    "_Feature"
   ],
   "window_display": false
  }
 },
 "nbformat": 4,
 "nbformat_minor": 4
}